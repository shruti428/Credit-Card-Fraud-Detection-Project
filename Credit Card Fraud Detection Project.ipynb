{
 "cells": [
  {
   "cell_type": "markdown",
   "metadata": {},
   "source": [
    "The purpose to the project is to use implement machine learning algorithms for predicting fraud detection\n",
    "The dataset was obtained from Kaggle (https://www.kaggle.com/mlg-ulb/creditcardfraud) and contains information on the features (28 features selected from PCA and deidentified) which will be used for predicting the fraud detection"
   ]
  },
  {
   "cell_type": "code",
   "execution_count": 3,
   "metadata": {},
   "outputs": [
    {
     "data": {
      "text/plain": [
       "<function posix.getcwd()>"
      ]
     },
     "execution_count": 3,
     "metadata": {},
     "output_type": "execute_result"
    }
   ],
   "source": [
    "#import packages \n",
    "import pandas as pd\n",
    "import matplotlib.pyplot as plt\n",
    "%matplotlib inline\n",
    "import sklearn\n"
   ]
  },
  {
   "cell_type": "code",
   "execution_count": 2,
   "metadata": {},
   "outputs": [
    {
     "data": {
      "text/plain": [
       "Index(['Time', 'V1', 'V2', 'V3', 'V4', 'V5', 'V6', 'V7', 'V8', 'V9', 'V10',\n",
       "       'V11', 'V12', 'V13', 'V14', 'V15', 'V16', 'V17', 'V18', 'V19', 'V20',\n",
       "       'V21', 'V22', 'V23', 'V24', 'V25', 'V26', 'V27', 'V28', 'Amount',\n",
       "       'Class'],\n",
       "      dtype='object')"
      ]
     },
     "execution_count": 2,
     "metadata": {},
     "output_type": "execute_result"
    }
   ],
   "source": [
    "##read in the dataset\n",
    "data=pd.read_csv(\"/Users/shrutiparulekar/Desktop/data science/kaggle/credit_card_fraud_detection/creditcard.csv\")\n",
    "data.head()\n",
    "data.columns"
   ]
  },
  {
   "cell_type": "code",
   "execution_count": 3,
   "metadata": {},
   "outputs": [],
   "source": [
    "#split the dataset into test and train data\n",
    "#create labels series\n",
    "from sklearn.model_selection import train_test_split\n",
    "y=data['Class']\n",
    "X=data.drop(['Class'],axis=1)\n",
    "X_train, X_test, y_train, y_test = train_test_split(X, y, test_size=0.33, random_state=0)"
   ]
  },
  {
   "cell_type": "code",
   "execution_count": 4,
   "metadata": {},
   "outputs": [],
   "source": [
    "##perform exploratory data analysis "
   ]
  },
  {
   "cell_type": "code",
   "execution_count": 5,
   "metadata": {},
   "outputs": [
    {
     "name": "stdout",
     "output_type": "stream",
     "text": [
      "                Time             V1             V2             V3  \\\n",
      "count  190820.000000  190820.000000  190820.000000  190820.000000   \n",
      "mean    94813.975275       0.000250      -0.003040      -0.001557   \n",
      "std     47514.214448       1.965457       1.658139       1.516553   \n",
      "min         0.000000     -46.855047     -63.344698     -33.680984   \n",
      "25%     54132.750000      -0.921287      -0.601963      -0.893090   \n",
      "50%     84637.500000       0.020151       0.063791       0.177196   \n",
      "75%    139379.500000       1.316737       0.802789       1.025456   \n",
      "max    172792.000000       2.451888      22.057729       9.382558   \n",
      "\n",
      "                  V4             V5             V6             V7  \\\n",
      "count  190820.000000  190820.000000  190820.000000  190820.000000   \n",
      "mean        0.001140      -0.001209       0.000036      -0.001151   \n",
      "std         1.417932       1.372321       1.329107       1.228864   \n",
      "min        -5.560118     -42.147898     -23.496714     -43.557242   \n",
      "25%        -0.848352      -0.691903      -0.769041      -0.554462   \n",
      "50%        -0.018028      -0.055393      -0.274434       0.039742   \n",
      "75%         0.744866       0.609359       0.398845       0.569311   \n",
      "max        16.715537      34.099309      23.917837      44.054461   \n",
      "\n",
      "                  V8             V9      ...                  V20  \\\n",
      "count  190820.000000  190820.000000      ...        190820.000000   \n",
      "mean       -0.002020      -0.000571      ...             0.000246   \n",
      "std         1.209241       1.102677      ...             0.770402   \n",
      "min       -73.216718     -13.434066      ...           -23.646890   \n",
      "25%        -0.209050      -0.646238      ...            -0.211684   \n",
      "50%         0.021776      -0.050818      ...            -0.063003   \n",
      "75%         0.326841       0.596965      ...             0.132636   \n",
      "max        20.007208      15.594995      ...            39.420904   \n",
      "\n",
      "                 V21            V22            V23            V24  \\\n",
      "count  190820.000000  190820.000000  190820.000000  190820.000000   \n",
      "mean       -0.000681      -0.000391      -0.000594       0.000294   \n",
      "std         0.742289       0.727514       0.629233       0.604864   \n",
      "min       -34.830382     -10.933144     -44.807735      -2.822684   \n",
      "25%        -0.229478      -0.545075      -0.161977      -0.354114   \n",
      "50%        -0.029111       0.006675      -0.010766       0.040758   \n",
      "75%         0.186606       0.530711       0.147733       0.438664   \n",
      "max        27.202839      10.503090      22.083545       4.022866   \n",
      "\n",
      "                 V25            V26            V27            V28  \\\n",
      "count  190820.000000  190820.000000  190820.000000  190820.000000   \n",
      "mean        0.000188      -0.000217       0.000042       0.000066   \n",
      "std         0.521318       0.481511       0.401457       0.323809   \n",
      "min       -10.295397      -2.534330     -22.565679     -11.710896   \n",
      "25%        -0.316215      -0.327388      -0.070762      -0.052923   \n",
      "50%         0.017660      -0.052197       0.001117       0.011156   \n",
      "75%         0.350953       0.240881       0.090626       0.078104   \n",
      "max         7.519589       3.463246      12.152401      22.620072   \n",
      "\n",
      "              Amount  \n",
      "count  190820.000000  \n",
      "mean       88.677410  \n",
      "std       246.300358  \n",
      "min         0.000000  \n",
      "25%         5.600000  \n",
      "50%        22.000000  \n",
      "75%        77.500000  \n",
      "max     19656.530000  \n",
      "\n",
      "[8 rows x 30 columns]\n"
     ]
    }
   ],
   "source": [
    "#generate a scatter plot to check the features related to outcome\n",
    "print(X_train.describe())\n",
    "#the features V1-V28 seem to have a similar range of values"
   ]
  },
  {
   "cell_type": "code",
   "execution_count": 6,
   "metadata": {},
   "outputs": [
    {
     "data": {
      "text/plain": [
       "0.00811963026353515"
      ]
     },
     "execution_count": 6,
     "metadata": {},
     "output_type": "execute_result"
    },
    {
     "data": {
      "image/png": "[encoded data removed]",
      "text/plain": [
       "<Figure size 432x288 with 1 Axes>"
      ]
     },
     "metadata": {
      "needs_background": "light"
     },
     "output_type": "display_data"
    }
   ],
   "source": [
    "##check the relationship between amount and the credit card fraud value\n",
    "#import seaborn as sns\n",
    "plt.scatter(X_train['Amount'],y_train)\n",
    "plt.title('Amount on the Credit Card vs Fraud Indicator')\n",
    "\n",
    "X_train['Amount'].corr(y_train, method='pearson', min_periods=1) \n",
    "\n",
    "#the plot shows that the amount variable has outliers \n",
    "##this variable doesn't seem to be highly correlated with the outcome(fraud transactions) we are predicting"
   ]
  },
  {
   "cell_type": "code",
   "execution_count": 36,
   "metadata": {},
   "outputs": [
    {
     "name": "stdout",
     "output_type": "stream",
     "text": [
      "Precision Recall AUC for Naive Bayes Classifier is 0.1682868221914222\n"
     ]
    },
    {
     "data": {
      "text/plain": [
       "array([0.15487963, 0.20138021, 0.1778117 , 0.1616241 , 0.14573847])"
      ]
     },
     "execution_count": 36,
     "metadata": {},
     "output_type": "execute_result"
    }
   ],
   "source": [
    "##using a naives bayes clssifier for prediction (to get the auc using a simpler clssification algorithm for reference)\n",
    "from sklearn.naive_bayes import GaussianNB\n",
    "from sklearn.model_selection import cross_val_score\n",
    "from sklearn.model_selection import KFold\n",
    "clf = GaussianNB()\n",
    "clf.fit(X_train, y_train)\n",
    "\n",
    "nb_pr_auc=cross_val_score(clf, X_train, y_train, cv=5, scoring = 'average_precision')\n",
    "avg_nb_pr_auc=nb_pr_auc.mean()\n",
    "print(\"Precision Recall AUC for Naive Bayes Classifier is\" , avg_nb_pr_auc)\n",
    "\n",
    "##the precision recall AUC is very low using the Naive Bayes approach"
   ]
  },
  {
   "cell_type": "code",
   "execution_count": 37,
   "metadata": {},
   "outputs": [
    {
     "name": "stdout",
     "output_type": "stream",
     "text": [
      "Precision Recall AUC using XGBoost Classifier is 0.8527556704301429\n"
     ]
    }
   ],
   "source": [
    "##using boosting methods to fit a model to classify fraud and not fraud transactions\n",
    "import os\n",
    "os.environ['KMP_DUPLICATE_LIB_OK']='True'\n",
    "from xgboost import XGBClassifier\n",
    "\n",
    "#fit model and train\n",
    "model = XGBClassifier(learning_rate = 0.05, n_estimators=100, max_depth=5)\n",
    "model.fit(X_train, y_train)\n",
    "\n",
    "# using k fold cross validation to get the precision recall auc\n",
    "xgb_pr_auc=cross_val_score(model, X_train, y_train, cv=5, scoring = 'average_precision')\n",
    "avg_xgb_pr_auc=xgb_pr_auc.mean()\n",
    "print(\"Precision Recall AUC using XGBoost Classifier is\" , avg_xgb_pr_auc)"
   ]
  },
  {
   "cell_type": "code",
   "execution_count": 40,
   "metadata": {},
   "outputs": [
    {
     "name": "stdout",
     "output_type": "stream",
     "text": [
      "Precision Recall AUC using XGBoost Classifier for n_estimators= 10 is 0.789647950294667\n",
      "Precision Recall AUC using XGBoost Classifier for n_estimators= 100 is 0.8527556704301429\n",
      "Precision Recall AUC using XGBoost Classifier for n_estimators= 300 is 0.8623252982671534\n"
     ]
    }
   ],
   "source": [
    "##check if the auc changes by changing parameters\n",
    "##looping through n_estimators\n",
    "\n",
    "n_estimators_list=[10,100,300]\n",
    "for n in n_estimators_list:\n",
    "    model = XGBClassifier(learning_rate = 0.05, n_estimators=n, max_depth=5)\n",
    "    model.fit(X_train, y_train)\n",
    "\n",
    "    # using k fold cross validation to get the precision recall auc\n",
    "    xgb_pr_auc=cross_val_score(model, X_train, y_train, cv=5, scoring = 'average_precision')\n",
    "    avg_xgb_pr_auc=xgb_pr_auc.mean()\n",
    "    print(\"Precision Recall AUC using XGBoost Classifier for n_estimators=\",n, \"is\" , avg_xgb_pr_auc)\n",
    "\n",
    "##note there is not substantial gain in the AUC after increasing the n_estimators to 300 compared to 100\n",
    "##given the increased computing time needed to run the model with 300 estimators \n",
    "##using 100 estimators might be reasonable"
   ]
  },
  {
   "cell_type": "code",
   "execution_count": 44,
   "metadata": {},
   "outputs": [
    {
     "name": "stdout",
     "output_type": "stream",
     "text": [
      "Precision Recall AUC using XGBoost Classifier for the test data is 0.8625318749756171\n"
     ]
    }
   ],
   "source": [
    "##fit the test set data to get predictions\n",
    "model = XGBClassifier(learning_rate = 0.05, n_estimators=100, max_depth=5)\n",
    "model.fit(X_train, y_train)\n",
    "\n",
    "#get predictions for the test data\n",
    "y_test_probs=model.predict(X_test)\n",
    "\n",
    "from sklearn.metrics import precision_recall_curve\n",
    "from sklearn.metrics import auc\n",
    "\n",
    "precision, recall, thresholds = precision_recall_curve(y_test, y_test_probs)\n",
    "avg_xgb_pr_auc_test=auc(recall, precision)\n",
    "print(\"Precision Recall AUC using XGBoost Classifier for the test data is\" , avg_xgb_pr_auc_test)\n"
   ]
  },
  {
   "cell_type": "code",
   "execution_count": 50,
   "metadata": {},
   "outputs": [
    {
     "data": {
      "text/plain": [
       "Text(0, 0.5, 'Features')"
      ]
     },
     "execution_count": 50,
     "metadata": {},
     "output_type": "execute_result"
    },
    {
     "data": {
      "image/png": "[encoded data removed]",
      "text/plain": [
       "<Figure size 432x288 with 1 Axes>"
      ]
     },
     "metadata": {
      "needs_background": "light"
     },
     "output_type": "display_data"
    }
   ],
   "source": [
    "##summarize/plot the important features \n",
    "feature_important = model.get_booster().get_score(importance_type='gain')\n",
    "keys = list(feature_important.keys())\n",
    "values = list(feature_important.values())\n",
    "\n",
    "data = pd.DataFrame(data=values, index=keys, columns=[\"score\"]).sort_values(by = \"score\", ascending=True)\n",
    "data.plot(kind='barh')\n",
    "plt.title(\"Importance of Features (Gain)\")\n",
    "plt.xlabel(\"Percentage\")\n",
    "plt.ylabel(\"Features\")"
   ]
  },
  {
   "cell_type": "code",
   "execution_count": null,
   "metadata": {},
   "outputs": [],
   "source": []
  }
 ],
 "metadata": {
  "kernelspec": {
   "display_name": "Python 3",
   "language": "python",
   "name": "python3"
  },
  "language_info": {
   "codemirror_mode": {
    "name": "ipython",
    "version": 3
   },
   "file_extension": ".py",
   "mimetype": "text/x-python",
   "name": "python",
   "nbconvert_exporter": "python",
   "pygments_lexer": "ipython3",
   "version": "3.7.1"
  }
 },
 "nbformat": 4,
 "nbformat_minor": 2
}
